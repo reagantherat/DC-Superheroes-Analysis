{
 "cells": [
  {
   "cell_type": "markdown",
   "id": "12579c05-c970-4073-9858-b04e5a57e4ec",
   "metadata": {},
   "source": [
    "# DC Superheroes Data Analysis\n",
    "\n",
    "bla bla bla"
   ]
  },
  {
   "cell_type": "markdown",
   "id": "2aa7f152-9f52-4bb1-8b36-43fae650a1aa",
   "metadata": {},
   "source": [
    "Data comes from : https://www.kaggle.com/datasets/mohitbansal31s/dc-characters?resource=download\n",
    "\n",
    "kaggle csv download, original poster scraped data from DC Fandom."
   ]
  },
  {
   "cell_type": "markdown",
   "id": "fb5a07a8-16dc-458d-9f8e-209105bdf24e",
   "metadata": {},
   "source": [
    "## Data Frame Creation"
   ]
  },
  {
   "cell_type": "code",
   "execution_count": 2,
   "id": "11998848-945a-4c16-b8c6-5c9c87613a1d",
   "metadata": {},
   "outputs": [
    {
     "data": {
      "text/html": [
       "<div>\n",
       "<style scoped>\n",
       "    .dataframe tbody tr th:only-of-type {\n",
       "        vertical-align: middle;\n",
       "    }\n",
       "\n",
       "    .dataframe tbody tr th {\n",
       "        vertical-align: top;\n",
       "    }\n",
       "\n",
       "    .dataframe thead th {\n",
       "        text-align: right;\n",
       "    }\n",
       "</style>\n",
       "<table border=\"1\" class=\"dataframe\">\n",
       "  <thead>\n",
       "    <tr style=\"text-align: right;\">\n",
       "      <th></th>\n",
       "      <th>Unnamed: 0</th>\n",
       "      <th>PageID</th>\n",
       "      <th>Name</th>\n",
       "      <th>Universe</th>\n",
       "      <th>URL</th>\n",
       "      <th>Identity</th>\n",
       "      <th>Gender</th>\n",
       "      <th>Marital Status</th>\n",
       "      <th>Teams</th>\n",
       "      <th>Weight (kg)</th>\n",
       "      <th>Creators</th>\n",
       "    </tr>\n",
       "  </thead>\n",
       "  <tbody>\n",
       "    <tr>\n",
       "      <th>0</th>\n",
       "      <td>0</td>\n",
       "      <td>2-6-8-1-7-9-5_(DC_Super_Hero_Girls)</td>\n",
       "      <td>2-6-8-1-7-9-5</td>\n",
       "      <td>DC Super Hero Girls</td>\n",
       "      <td>https://dc.fandom.com/wiki/2-6-8-1-7-9-5_(DC_S...</td>\n",
       "      <td>Public</td>\n",
       "      <td>Female</td>\n",
       "      <td>Single</td>\n",
       "      <td>Green Lantern Corps</td>\n",
       "      <td>NaN</td>\n",
       "      <td>Billy Tan; Robert Venditti</td>\n",
       "    </tr>\n",
       "    <tr>\n",
       "      <th>1</th>\n",
       "      <td>1</td>\n",
       "      <td>2-6-8-1-7-9-5_(Prime_Earth)</td>\n",
       "      <td>2-6-8-1-7-9-5</td>\n",
       "      <td>Prime Earth</td>\n",
       "      <td>https://dc.fandom.com/wiki/2-6-8-1-7-9-5_(Prim...</td>\n",
       "      <td>Public</td>\n",
       "      <td>Female</td>\n",
       "      <td>Single</td>\n",
       "      <td>Green Lantern Corps</td>\n",
       "      <td>NaN</td>\n",
       "      <td>Billy Tan; Robert Venditti</td>\n",
       "    </tr>\n",
       "    <tr>\n",
       "      <th>2</th>\n",
       "      <td>2</td>\n",
       "      <td>2-Face-2_(Batman_in_Bethlehem)</td>\n",
       "      <td>2-Face-2</td>\n",
       "      <td>Batman in Bethlehem</td>\n",
       "      <td>https://dc.fandom.com/wiki/2-Face-2_(Batman_in...</td>\n",
       "      <td>NaN</td>\n",
       "      <td>Male</td>\n",
       "      <td>NaN</td>\n",
       "      <td>NaN</td>\n",
       "      <td>NaN</td>\n",
       "      <td>Andy Kubert; Grant Morrison</td>\n",
       "    </tr>\n",
       "    <tr>\n",
       "      <th>3</th>\n",
       "      <td>3</td>\n",
       "      <td>3g4_(New_Earth)</td>\n",
       "      <td>3g4</td>\n",
       "      <td>New Earth</td>\n",
       "      <td>https://dc.fandom.com/wiki/3g4_(New_Earth)</td>\n",
       "      <td>NaN</td>\n",
       "      <td>Male</td>\n",
       "      <td>NaN</td>\n",
       "      <td>NaN</td>\n",
       "      <td>NaN</td>\n",
       "      <td>Jim Calafiore; Peter David</td>\n",
       "    </tr>\n",
       "    <tr>\n",
       "      <th>4</th>\n",
       "      <td>4</td>\n",
       "      <td>7-Gorn-7_(Teen_Titans_TV_Series)</td>\n",
       "      <td>7-Gorn-7</td>\n",
       "      <td>Teen Titans TV Series</td>\n",
       "      <td>https://dc.fandom.com/wiki/7-Gorn-7_(Teen_Tita...</td>\n",
       "      <td>Public</td>\n",
       "      <td>NaN</td>\n",
       "      <td>NaN</td>\n",
       "      <td>Control Freak</td>\n",
       "      <td>NaN</td>\n",
       "      <td>David Slack</td>\n",
       "    </tr>\n",
       "  </tbody>\n",
       "</table>\n",
       "</div>"
      ],
      "text/plain": [
       "   Unnamed: 0                               PageID           Name  \\\n",
       "0           0  2-6-8-1-7-9-5_(DC_Super_Hero_Girls)  2-6-8-1-7-9-5   \n",
       "1           1          2-6-8-1-7-9-5_(Prime_Earth)  2-6-8-1-7-9-5   \n",
       "2           2       2-Face-2_(Batman_in_Bethlehem)       2-Face-2   \n",
       "3           3                      3g4_(New_Earth)            3g4   \n",
       "4           4     7-Gorn-7_(Teen_Titans_TV_Series)       7-Gorn-7   \n",
       "\n",
       "                Universe                                                URL  \\\n",
       "0    DC Super Hero Girls  https://dc.fandom.com/wiki/2-6-8-1-7-9-5_(DC_S...   \n",
       "1            Prime Earth  https://dc.fandom.com/wiki/2-6-8-1-7-9-5_(Prim...   \n",
       "2    Batman in Bethlehem  https://dc.fandom.com/wiki/2-Face-2_(Batman_in...   \n",
       "3              New Earth         https://dc.fandom.com/wiki/3g4_(New_Earth)   \n",
       "4  Teen Titans TV Series  https://dc.fandom.com/wiki/7-Gorn-7_(Teen_Tita...   \n",
       "\n",
       "  Identity  Gender Marital Status                Teams  Weight (kg)  \\\n",
       "0   Public  Female         Single  Green Lantern Corps          NaN   \n",
       "1   Public  Female         Single  Green Lantern Corps          NaN   \n",
       "2      NaN    Male            NaN                  NaN          NaN   \n",
       "3      NaN    Male            NaN                  NaN          NaN   \n",
       "4   Public     NaN            NaN        Control Freak          NaN   \n",
       "\n",
       "                      Creators  \n",
       "0   Billy Tan; Robert Venditti  \n",
       "1   Billy Tan; Robert Venditti  \n",
       "2  Andy Kubert; Grant Morrison  \n",
       "3   Jim Calafiore; Peter David  \n",
       "4                  David Slack  "
      ]
     },
     "execution_count": 2,
     "metadata": {},
     "output_type": "execute_result"
    }
   ],
   "source": [
    "import pandas as pd\n",
    "\n",
    "dc_df = pd.read_csv('dc_characters_dataset.csv')\n",
    "dc_df.head()"
   ]
  },
  {
   "cell_type": "markdown",
   "id": "b475a476-2554-4776-b9f1-55e73c3ada92",
   "metadata": {},
   "source": [
    "## Data Cleaning"
   ]
  },
  {
   "cell_type": "code",
   "execution_count": null,
   "id": "acc73434-d46a-4d0e-a1a9-e412f59fc392",
   "metadata": {},
   "outputs": [],
   "source": []
  }
 ],
 "metadata": {
  "kernelspec": {
   "display_name": "Python 3 (ipykernel)",
   "language": "python",
   "name": "python3"
  },
  "language_info": {
   "codemirror_mode": {
    "name": "ipython",
    "version": 3
   },
   "file_extension": ".py",
   "mimetype": "text/x-python",
   "name": "python",
   "nbconvert_exporter": "python",
   "pygments_lexer": "ipython3",
   "version": "3.12.4"
  }
 },
 "nbformat": 4,
 "nbformat_minor": 5
}
