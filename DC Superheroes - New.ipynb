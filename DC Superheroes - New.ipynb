{
 "cells": [
  {
   "cell_type": "markdown",
   "id": "12579c05-c970-4073-9858-b04e5a57e4ec",
   "metadata": {},
   "source": [
    "# DC Superheroes Data Analysis\n",
    "\n",
    "bla bla bla"
   ]
  },
  {
   "cell_type": "markdown",
   "id": "2aa7f152-9f52-4bb1-8b36-43fae650a1aa",
   "metadata": {},
   "source": [
    "Data comes from : https://www.kaggle.com/datasets/mohitbansal31s/dc-characters?resource=download\n",
    "\n",
    "kaggle csv download, original poster scraped data from DC Fandom."
   ]
  },
  {
   "cell_type": "markdown",
   "id": "fb5a07a8-16dc-458d-9f8e-209105bdf24e",
   "metadata": {},
   "source": [
    "## Data Frame Creation"
   ]
  },
  {
   "cell_type": "code",
   "execution_count": 22,
   "id": "11998848-945a-4c16-b8c6-5c9c87613a1d",
   "metadata": {},
   "outputs": [
    {
     "data": {
      "text/html": [
       "<div>\n",
       "<style scoped>\n",
       "    .dataframe tbody tr th:only-of-type {\n",
       "        vertical-align: middle;\n",
       "    }\n",
       "\n",
       "    .dataframe tbody tr th {\n",
       "        vertical-align: top;\n",
       "    }\n",
       "\n",
       "    .dataframe thead th {\n",
       "        text-align: right;\n",
       "    }\n",
       "</style>\n",
       "<table border=\"1\" class=\"dataframe\">\n",
       "  <thead>\n",
       "    <tr style=\"text-align: right;\">\n",
       "      <th></th>\n",
       "      <th>Unnamed: 0</th>\n",
       "      <th>PageID</th>\n",
       "      <th>Name</th>\n",
       "      <th>Universe</th>\n",
       "      <th>URL</th>\n",
       "      <th>Identity</th>\n",
       "      <th>Gender</th>\n",
       "      <th>Marital Status</th>\n",
       "      <th>Teams</th>\n",
       "      <th>Weight (kg)</th>\n",
       "      <th>Creators</th>\n",
       "    </tr>\n",
       "  </thead>\n",
       "  <tbody>\n",
       "    <tr>\n",
       "      <th>0</th>\n",
       "      <td>0</td>\n",
       "      <td>2-6-8-1-7-9-5_(DC_Super_Hero_Girls)</td>\n",
       "      <td>2-6-8-1-7-9-5</td>\n",
       "      <td>DC Super Hero Girls</td>\n",
       "      <td>https://dc.fandom.com/wiki/2-6-8-1-7-9-5_(DC_S...</td>\n",
       "      <td>Public</td>\n",
       "      <td>Female</td>\n",
       "      <td>Single</td>\n",
       "      <td>Green Lantern Corps</td>\n",
       "      <td>NaN</td>\n",
       "      <td>Billy Tan; Robert Venditti</td>\n",
       "    </tr>\n",
       "    <tr>\n",
       "      <th>1</th>\n",
       "      <td>1</td>\n",
       "      <td>2-6-8-1-7-9-5_(Prime_Earth)</td>\n",
       "      <td>2-6-8-1-7-9-5</td>\n",
       "      <td>Prime Earth</td>\n",
       "      <td>https://dc.fandom.com/wiki/2-6-8-1-7-9-5_(Prim...</td>\n",
       "      <td>Public</td>\n",
       "      <td>Female</td>\n",
       "      <td>Single</td>\n",
       "      <td>Green Lantern Corps</td>\n",
       "      <td>NaN</td>\n",
       "      <td>Billy Tan; Robert Venditti</td>\n",
       "    </tr>\n",
       "    <tr>\n",
       "      <th>2</th>\n",
       "      <td>2</td>\n",
       "      <td>2-Face-2_(Batman_in_Bethlehem)</td>\n",
       "      <td>2-Face-2</td>\n",
       "      <td>Batman in Bethlehem</td>\n",
       "      <td>https://dc.fandom.com/wiki/2-Face-2_(Batman_in...</td>\n",
       "      <td>NaN</td>\n",
       "      <td>Male</td>\n",
       "      <td>NaN</td>\n",
       "      <td>NaN</td>\n",
       "      <td>NaN</td>\n",
       "      <td>Andy Kubert; Grant Morrison</td>\n",
       "    </tr>\n",
       "    <tr>\n",
       "      <th>3</th>\n",
       "      <td>3</td>\n",
       "      <td>3g4_(New_Earth)</td>\n",
       "      <td>3g4</td>\n",
       "      <td>New Earth</td>\n",
       "      <td>https://dc.fandom.com/wiki/3g4_(New_Earth)</td>\n",
       "      <td>NaN</td>\n",
       "      <td>Male</td>\n",
       "      <td>NaN</td>\n",
       "      <td>NaN</td>\n",
       "      <td>NaN</td>\n",
       "      <td>Jim Calafiore; Peter David</td>\n",
       "    </tr>\n",
       "    <tr>\n",
       "      <th>4</th>\n",
       "      <td>4</td>\n",
       "      <td>7-Gorn-7_(Teen_Titans_TV_Series)</td>\n",
       "      <td>7-Gorn-7</td>\n",
       "      <td>Teen Titans TV Series</td>\n",
       "      <td>https://dc.fandom.com/wiki/7-Gorn-7_(Teen_Tita...</td>\n",
       "      <td>Public</td>\n",
       "      <td>NaN</td>\n",
       "      <td>NaN</td>\n",
       "      <td>Control Freak</td>\n",
       "      <td>NaN</td>\n",
       "      <td>David Slack</td>\n",
       "    </tr>\n",
       "  </tbody>\n",
       "</table>\n",
       "</div>"
      ],
      "text/plain": [
       "   Unnamed: 0                               PageID           Name  \\\n",
       "0           0  2-6-8-1-7-9-5_(DC_Super_Hero_Girls)  2-6-8-1-7-9-5   \n",
       "1           1          2-6-8-1-7-9-5_(Prime_Earth)  2-6-8-1-7-9-5   \n",
       "2           2       2-Face-2_(Batman_in_Bethlehem)       2-Face-2   \n",
       "3           3                      3g4_(New_Earth)            3g4   \n",
       "4           4     7-Gorn-7_(Teen_Titans_TV_Series)       7-Gorn-7   \n",
       "\n",
       "                Universe                                                URL  \\\n",
       "0    DC Super Hero Girls  https://dc.fandom.com/wiki/2-6-8-1-7-9-5_(DC_S...   \n",
       "1            Prime Earth  https://dc.fandom.com/wiki/2-6-8-1-7-9-5_(Prim...   \n",
       "2    Batman in Bethlehem  https://dc.fandom.com/wiki/2-Face-2_(Batman_in...   \n",
       "3              New Earth         https://dc.fandom.com/wiki/3g4_(New_Earth)   \n",
       "4  Teen Titans TV Series  https://dc.fandom.com/wiki/7-Gorn-7_(Teen_Tita...   \n",
       "\n",
       "  Identity  Gender Marital Status                Teams  Weight (kg)  \\\n",
       "0   Public  Female         Single  Green Lantern Corps          NaN   \n",
       "1   Public  Female         Single  Green Lantern Corps          NaN   \n",
       "2      NaN    Male            NaN                  NaN          NaN   \n",
       "3      NaN    Male            NaN                  NaN          NaN   \n",
       "4   Public     NaN            NaN        Control Freak          NaN   \n",
       "\n",
       "                      Creators  \n",
       "0   Billy Tan; Robert Venditti  \n",
       "1   Billy Tan; Robert Venditti  \n",
       "2  Andy Kubert; Grant Morrison  \n",
       "3   Jim Calafiore; Peter David  \n",
       "4                  David Slack  "
      ]
     },
     "execution_count": 22,
     "metadata": {},
     "output_type": "execute_result"
    }
   ],
   "source": [
    "import pandas as pd\n",
    "import matplotlib.pyplot as plt\n",
    "import seaborn as sns\n",
    "import plotly.express as px\n",
    "import numpy as np\n",
    "\n",
    "dc_df = pd.read_csv('dc_characters_dataset.csv')\n",
    "dc_df.head()"
   ]
  },
  {
   "cell_type": "markdown",
   "id": "b475a476-2554-4776-b9f1-55e73c3ada92",
   "metadata": {},
   "source": [
    "## Data Cleaning"
   ]
  },
  {
   "cell_type": "markdown",
   "id": "b1bf8166-c486-4a32-b6bb-dd03cebf6daf",
   "metadata": {},
   "source": [
    "I have decided for the purposes of my study to keep characters with duplicate names because althought they are the same character they are from different universes and therefore may have different roles in their respective universe. I think it is also important to see which characters recieve alternate versions accross different franchises and media. I am correcting the \"Gender\" column for rows: 22965 and 25728, as well as combining the lowercase \"male\" and \"female\" categories with the uppercase versions. For simplicity I will delete the 414 rows that have no value for the gender column. Most were characters already listed with a gender in the data or were characters that had no gender."
   ]
  },
  {
   "cell_type": "code",
   "execution_count": 23,
   "id": "acc73434-d46a-4d0e-a1a9-e412f59fc392",
   "metadata": {},
   "outputs": [
    {
     "data": {
      "text/html": [
       "<div>\n",
       "<style scoped>\n",
       "    .dataframe tbody tr th:only-of-type {\n",
       "        vertical-align: middle;\n",
       "    }\n",
       "\n",
       "    .dataframe tbody tr th {\n",
       "        vertical-align: top;\n",
       "    }\n",
       "\n",
       "    .dataframe thead th {\n",
       "        text-align: right;\n",
       "    }\n",
       "</style>\n",
       "<table border=\"1\" class=\"dataframe\">\n",
       "  <thead>\n",
       "    <tr style=\"text-align: right;\">\n",
       "      <th></th>\n",
       "      <th>Name</th>\n",
       "      <th>Universe</th>\n",
       "      <th>Identity</th>\n",
       "      <th>Gender</th>\n",
       "      <th>Marital Status</th>\n",
       "      <th>Teams</th>\n",
       "      <th>Creators</th>\n",
       "    </tr>\n",
       "  </thead>\n",
       "  <tbody>\n",
       "    <tr>\n",
       "      <th>0</th>\n",
       "      <td>2-6-8-1-7-9-5</td>\n",
       "      <td>DC Super Hero Girls</td>\n",
       "      <td>Public</td>\n",
       "      <td>Female</td>\n",
       "      <td>Single</td>\n",
       "      <td>Green Lantern Corps</td>\n",
       "      <td>Billy Tan; Robert Venditti</td>\n",
       "    </tr>\n",
       "    <tr>\n",
       "      <th>1</th>\n",
       "      <td>2-6-8-1-7-9-5</td>\n",
       "      <td>Prime Earth</td>\n",
       "      <td>Public</td>\n",
       "      <td>Female</td>\n",
       "      <td>Single</td>\n",
       "      <td>Green Lantern Corps</td>\n",
       "      <td>Billy Tan; Robert Venditti</td>\n",
       "    </tr>\n",
       "    <tr>\n",
       "      <th>2</th>\n",
       "      <td>2-Face-2</td>\n",
       "      <td>Batman in Bethlehem</td>\n",
       "      <td>NaN</td>\n",
       "      <td>Male</td>\n",
       "      <td>NaN</td>\n",
       "      <td>NaN</td>\n",
       "      <td>Andy Kubert; Grant Morrison</td>\n",
       "    </tr>\n",
       "    <tr>\n",
       "      <th>3</th>\n",
       "      <td>3g4</td>\n",
       "      <td>New Earth</td>\n",
       "      <td>NaN</td>\n",
       "      <td>Male</td>\n",
       "      <td>NaN</td>\n",
       "      <td>NaN</td>\n",
       "      <td>Jim Calafiore; Peter David</td>\n",
       "    </tr>\n",
       "    <tr>\n",
       "      <th>5</th>\n",
       "      <td>50% Chad</td>\n",
       "      <td>Prime Earth</td>\n",
       "      <td>Secret</td>\n",
       "      <td>Male</td>\n",
       "      <td>Single</td>\n",
       "      <td>Brotherhood of Nada</td>\n",
       "      <td>Gerard Way; Nick Derington</td>\n",
       "    </tr>\n",
       "  </tbody>\n",
       "</table>\n",
       "</div>"
      ],
      "text/plain": [
       "            Name             Universe Identity  Gender Marital Status  \\\n",
       "0  2-6-8-1-7-9-5  DC Super Hero Girls   Public  Female         Single   \n",
       "1  2-6-8-1-7-9-5          Prime Earth   Public  Female         Single   \n",
       "2       2-Face-2  Batman in Bethlehem      NaN    Male            NaN   \n",
       "3            3g4            New Earth      NaN    Male            NaN   \n",
       "5       50% Chad          Prime Earth   Secret    Male         Single   \n",
       "\n",
       "                 Teams                     Creators  \n",
       "0  Green Lantern Corps   Billy Tan; Robert Venditti  \n",
       "1  Green Lantern Corps   Billy Tan; Robert Venditti  \n",
       "2                  NaN  Andy Kubert; Grant Morrison  \n",
       "3                  NaN   Jim Calafiore; Peter David  \n",
       "5  Brotherhood of Nada   Gerard Way; Nick Derington  "
      ]
     },
     "execution_count": 23,
     "metadata": {},
     "output_type": "execute_result"
    }
   ],
   "source": [
    "#removing columns unnecessary for visualizations and report\n",
    "\n",
    "dc_df.drop(columns=[\"URL\", \"Weight (kg)\", \"Unnamed: 0\", \"PageID\"], inplace=True)\n",
    "dc_df.dropna(subset=[\"Gender\"], inplace=True)\n",
    "\n",
    "dc_df[\"Gender\"] = dc_df[\"Gender\"].replace({\"Genderless\": \"Genderless or Non-binary\", \"Non-binary\": \"Genderless or Non-binary\"})\n",
    "dc_df[\"Gender\"] = dc_df[\"Gender\"].replace({\"male\": \"Male\", \"female\": \"Female\"})\n",
    "dc_df[\"Gender\"] = dc_df[\"Gender\"].replace({\"Good\": \"Male\", \"New Earth\": \"Female\"})\n",
    "dc_df[\"Marital Status\"] = dc_df[\"Marital Status\"].replace({\"[[:Category:> Characters|>]][[Category:> Characters|Edwin Alva (Earth M)]]\": \"Widowed\"})\n",
    "dc_df[\"Marital Status\"] = dc_df[\"Marital Status\"].replace({\"Good\": np.nan})\n",
    "dc_df.head()"
   ]
  },
  {
   "cell_type": "markdown",
   "id": "838c67a3-2953-4e9b-b456-e8ee24fc79e6",
   "metadata": {},
   "source": [
    "## Visualization"
   ]
  },
  {
   "cell_type": "code",
   "execution_count": 24,
   "id": "c406eba4-51f1-4e38-8779-f72a15b0cbb3",
   "metadata": {},
   "outputs": [
    {
     "data": {
      "text/plain": [
       "Gender\n",
       "Male                        22040\n",
       "Female                       8843\n",
       "Genderless or Non-binary      165\n",
       "Intersex                        3\n",
       "Name: count, dtype: int64"
      ]
     },
     "execution_count": 24,
     "metadata": {},
     "output_type": "execute_result"
    }
   ],
   "source": [
    "#sns.countplot(x=\"Gender\", data = dc_df)\n",
    "counts = dc_df[\"Gender\"].value_counts()\n",
    "counts\n",
    "\n"
   ]
  },
  {
   "cell_type": "code",
   "execution_count": 25,
   "id": "632237ee-c292-4875-a340-472a8d3ffbcc",
   "metadata": {},
   "outputs": [
    {
     "data": {
      "text/plain": [
       "Marital Status\n",
       "Single     13092\n",
       "Married     2389\n",
       "Widowed      780\n",
       "Engaged      106\n",
       "Name: count, dtype: int64"
      ]
     },
     "execution_count": 25,
     "metadata": {},
     "output_type": "execute_result"
    }
   ],
   "source": [
    "counts = dc_df[\"Marital Status\"].value_counts()\n",
    "counts"
   ]
  },
  {
   "cell_type": "code",
   "execution_count": 27,
   "id": "7da09d2a-9d6d-4d19-8db3-588b7af08155",
   "metadata": {},
   "outputs": [
    {
     "data": {
      "image/png": "[encoded data removed]",
      "text/plain": [
       "<Figure size 640x480 with 1 Axes>"
      ]
     },
     "metadata": {},
     "output_type": "display_data"
    }
   ],
   "source": [
    "# I am converting my counts to percentages because I believe it makes \n",
    "# the visualization more relative and easier to understand and compare\n",
    "gender_counts = dc_df['Gender'].value_counts(normalize = True)*100\n",
    "\n",
    "sns.barplot(x = gender_counts.index, y = gender_counts.values)\n",
    "\n",
    "plt.xlabel('Gender')\n",
    "plt.ylabel('Percentage')\n",
    "plt.title('Gender Percentage of DC Characters')\n",
    "plt.show()\n",
    "\n"
   ]
  },
  {
   "cell_type": "code",
   "execution_count": 28,
   "id": "8ba106bd-ec90-46eb-a9fe-7b9e1e56449c",
   "metadata": {},
   "outputs": [
    {
     "data": {
      "image/png": "[encoded data removed]",
      "text/plain": [
       "<Figure size 640x480 with 1 Axes>"
      ]
     },
     "metadata": {},
     "output_type": "display_data"
    }
   ],
   "source": [
    "female_characters = dc_df[dc_df[\"Gender\"] == \"Female\"]\n",
    "\n",
    "# I am converting my counts to percentages because I believe it makes \n",
    "# the visualization more relative and easier to understand and compare\n",
    "marital_counts = female_characters['Marital Status'].value_counts(normalize = True)*100\n",
    "\n",
    "sns.barplot(x = marital_counts.index, y = marital_counts.values)\n",
    "\n",
    "plt.xlabel('Marital Status')\n",
    "plt.ylabel('Percentage')\n",
    "plt.title('Marital Status of DC Women')\n",
    "plt.show()"
   ]
  },
  {
   "cell_type": "code",
   "execution_count": 29,
   "id": "40cf7667-27d1-406e-a233-3019acd210d9",
   "metadata": {},
   "outputs": [
    {
     "data": {
      "image/png": "[encoded data removed]",
      "text/plain": [
       "<Figure size 640x480 with 1 Axes>"
      ]
     },
     "metadata": {},
     "output_type": "display_data"
    }
   ],
   "source": [
    "male_characters = dc_df[dc_df[\"Gender\"] == \"Male\"]\n",
    "\n",
    "# I am converting my counts to percentages because I believe it makes \n",
    "# the visualization more relative and easier to understand and compare\n",
    "marital_counts = male_characters['Marital Status'].value_counts(normalize = True)*100\n",
    "\n",
    "sns.barplot(x = marital_counts.index, y = marital_counts.values)\n",
    "\n",
    "plt.xlabel('Marital Status')\n",
    "plt.ylabel('Percentage')\n",
    "plt.title('Marital Status of DC Men')\n",
    "plt.show()"
   ]
  }
 ],
 "metadata": {
  "kernelspec": {
   "display_name": "Python 3 (ipykernel)",
   "language": "python",
   "name": "python3"
  },
  "language_info": {
   "codemirror_mode": {
    "name": "ipython",
    "version": 3
   },
   "file_extension": ".py",
   "mimetype": "text/x-python",
   "name": "python",
   "nbconvert_exporter": "python",
   "pygments_lexer": "ipython3",
   "version": "3.12.4"
  }
 },
 "nbformat": 4,
 "nbformat_minor": 5
}
